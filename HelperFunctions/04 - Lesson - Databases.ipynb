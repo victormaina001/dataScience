{
 "cells": [
  {
   "cell_type": "markdown",
   "id": "b6debaac",
   "metadata": {},
   "source": [
    "# Databases"
   ]
  },
  {
   "cell_type": "markdown",
   "id": "a560dd75",
   "metadata": {},
   "source": [
    "![Data Science Workflow](img/ds-workflow.png)"
   ]
  },
  {
   "cell_type": "markdown",
   "id": "c25bb04b",
   "metadata": {},
   "source": [
    "## Acquire Data\n",
    "### Common Data Sources\n",
    "- The Internet - Web Scraping\n",
    "- **Databases**\n",
    "- CSV\n",
    "- Excel\n",
    "- Parquet"
   ]
  },
  {
   "cell_type": "markdown",
   "id": "bfa4218b",
   "metadata": {},
   "source": [
    "### Database\n",
    "- **Relational databases** models data in rows and columns in a series of tables.\n",
    "- Like a collection of **DataFrames/Excel sheets**.\n",
    "- **SQL** (often pronounced *sequel*): Structured Query Language\n",
    "- Non-relational databases [NoSQL](https://en.wikipedia.org/wiki/NoSQL)"
   ]
  },
  {
   "cell_type": "markdown",
   "id": "d9874702",
   "metadata": {},
   "source": [
    "### SQLite database\n",
    "- [SQLite database](https://www.sqlite.org/index.html) software library that provides a relational database management system\n",
    "- Lightweight to setup, administrate, and requires low resources."
   ]
  },
  {
   "cell_type": "markdown",
   "id": "6d7f352f",
   "metadata": {},
   "source": [
    "### Dataset (in a SQLite database)\n",
    "- Dallas Police Officer-Involved Shootings\n",
    "- Has three tables: **incidents, officers, subjects**\n",
    "\n",
    "#### Other SQLite datasets\n",
    "- [SQLite Data Starter Packs](http://2016.padjo.org/tutorials/sqlite-data-starterpacks/)\n",
    "- [Iris Species (Kaggle)](https://www.kaggle.com/uciml/iris)\n",
    "- [European Soccer Database (Kaggle)](https://www.kaggle.com/hugomathien/soccer)"
   ]
  },
  {
   "cell_type": "markdown",
   "id": "2a4264e0",
   "metadata": {},
   "source": [
    "### Database connector\n",
    "- The [sqlite3](https://docs.python.org/3/library/sqlite3.html) is an interface for SQLite databases.\n",
    "- No installation needed.\n",
    "\n",
    "#### Other database connectors for Python\n",
    "* [MySQL Connector](https://dev.mysql.com/doc/connector-python/en/) for MySQL\n",
    "* [Psycopg](http://initd.org/psycopg/docs/install.html) for PostgreSQL\n",
    "* [pymssql](http://pymssql.org/en/stable/) for Microsoft MS SQL"
   ]
  },
  {
   "cell_type": "markdown",
   "id": "f6779643",
   "metadata": {},
   "source": [
    "To import and connect to a SQLite database.\n",
    "```Python\n",
    "import sqlite3\n",
    "conn = sqlite3.connect('files/dallas-ois.sqlite')\n",
    "```"
   ]
  },
  {
   "cell_type": "code",
   "execution_count": 1,
   "id": "e0e27aa3",
   "metadata": {},
   "outputs": [],
   "source": [
    "import sqlite3"
   ]
  },
  {
   "cell_type": "code",
   "execution_count": 2,
   "id": "19f19355",
   "metadata": {},
   "outputs": [],
   "source": [
    "conn = sqlite3.connect('files/dallas-ois.sqlite')"
   ]
  },
  {
   "cell_type": "markdown",
   "id": "329dbd67",
   "metadata": {},
   "source": [
    "The interface to the datases is through the `cursor`.\n",
    "\n",
    "```Python\n",
    "cursor = conn.cursor()\n",
    "```\n",
    "\n",
    "The `execute` method allows to run `SQL` queries on our database.\n",
    "\n",
    "To get a list of all the tables the following query can be applied.\n",
    "\n",
    "```SQL\n",
    "SELECT name FROM sqlite_master WHERE type='table' ORDER BY name\n",
    "```\n",
    "\n",
    "The result is fetched with the `fetchall()` method."
   ]
  },
  {
   "cell_type": "code",
   "execution_count": 3,
   "id": "57a78dbc",
   "metadata": {},
   "outputs": [],
   "source": [
    "cursor = conn.cursor()"
   ]
  },
  {
   "cell_type": "code",
   "execution_count": 4,
   "id": "c59adeea",
   "metadata": {},
   "outputs": [
    {
     "data": {
      "text/plain": [
       "<sqlite3.Cursor at 0x208a83bb490>"
      ]
     },
     "execution_count": 4,
     "metadata": {},
     "output_type": "execute_result"
    }
   ],
   "source": [
    "cursor.execute(\"SELECT name FROM sqlite_master WHERE type='table' ORDER BY name\")"
   ]
  },
  {
   "cell_type": "code",
   "execution_count": 5,
   "id": "8699bc31",
   "metadata": {},
   "outputs": [
    {
     "data": {
      "text/plain": [
       "[('incidents',), ('officers',), ('subjects',)]"
      ]
     },
     "execution_count": 5,
     "metadata": {},
     "output_type": "execute_result"
    }
   ],
   "source": [
    "cursor.fetchall()"
   ]
  },
  {
   "cell_type": "markdown",
   "id": "b424595d",
   "metadata": {},
   "source": [
    "To get a description of a table (SQLite specific)\n",
    "\n",
    "```SQL\n",
    "PRAGMA table_info(officers)\n",
    "```"
   ]
  },
  {
   "cell_type": "code",
   "execution_count": 6,
   "id": "a419c17e",
   "metadata": {},
   "outputs": [
    {
     "data": {
      "text/plain": [
       "[(0, 'case_number', 'TEXT', 0, None, 0),\n",
       " (1, 'race', 'TEXT', 0, None, 0),\n",
       " (2, 'gender', 'TEXT', 0, None, 0),\n",
       " (3, 'last_name', 'TEXT', 0, None, 0),\n",
       " (4, 'first_name', 'TEXT', 0, None, 0),\n",
       " (5, 'full_name', 'TEXT', 0, None, 0)]"
      ]
     },
     "execution_count": 6,
     "metadata": {},
     "output_type": "execute_result"
    }
   ],
   "source": [
    "cursor.execute(\"PRAGMA table_info(officers)\").fetchall()"
   ]
  },
  {
   "cell_type": "markdown",
   "id": "b9cc3c8c",
   "metadata": {},
   "source": [
    "### SQL syntax\n",
    "Get all data from table\n",
    "```SQL\n",
    "SELECT * FROM table_name\n",
    "```\n",
    "\n",
    "Limit the response\n",
    "```SQL\n",
    "SELECT * FROM table_name LIMIT 100\n",
    "```\n",
    "\n",
    "Filter data\n",
    "```SQL\n",
    "SELECT * FROM table_name WHERE column_name > 1\n",
    "```"
   ]
  },
  {
   "cell_type": "markdown",
   "id": "9a25d394",
   "metadata": {},
   "source": [
    "### Import data into DataFrame\n",
    "Example of how to read data into a DataFrame from a SQL statement\n",
    "```Python\n",
    "import pandas as pd\n",
    "\n",
    "officers = pd.read_sql('SELECT * FROM officers', conn)\n",
    "```"
   ]
  },
  {
   "cell_type": "code",
   "execution_count": 7,
   "id": "7efb9885",
   "metadata": {},
   "outputs": [],
   "source": [
    "import pandas as pd"
   ]
  },
  {
   "cell_type": "code",
   "execution_count": 8,
   "id": "b2acbf4b",
   "metadata": {},
   "outputs": [],
   "source": [
    "officers = pd.read_sql('SELECT * FROM officers', conn)"
   ]
  },
  {
   "cell_type": "code",
   "execution_count": 9,
   "id": "199f6bd2",
   "metadata": {},
   "outputs": [
    {
     "data": {
      "text/html": [
       "<div>\n",
       "<style scoped>\n",
       "    .dataframe tbody tr th:only-of-type {\n",
       "        vertical-align: middle;\n",
       "    }\n",
       "\n",
       "    .dataframe tbody tr th {\n",
       "        vertical-align: top;\n",
       "    }\n",
       "\n",
       "    .dataframe thead th {\n",
       "        text-align: right;\n",
       "    }\n",
       "</style>\n",
       "<table border=\"1\" class=\"dataframe\">\n",
       "  <thead>\n",
       "    <tr style=\"text-align: right;\">\n",
       "      <th></th>\n",
       "      <th>case_number</th>\n",
       "      <th>race</th>\n",
       "      <th>gender</th>\n",
       "      <th>last_name</th>\n",
       "      <th>first_name</th>\n",
       "      <th>full_name</th>\n",
       "    </tr>\n",
       "  </thead>\n",
       "  <tbody>\n",
       "    <tr>\n",
       "      <th>0</th>\n",
       "      <td>44523A</td>\n",
       "      <td>L</td>\n",
       "      <td>M</td>\n",
       "      <td>Patino</td>\n",
       "      <td>Michael</td>\n",
       "      <td>Patino, Michael</td>\n",
       "    </tr>\n",
       "    <tr>\n",
       "      <th>1</th>\n",
       "      <td>44523A</td>\n",
       "      <td>W</td>\n",
       "      <td>M</td>\n",
       "      <td>Fillingim</td>\n",
       "      <td>Brian</td>\n",
       "      <td>Fillingim, Brian</td>\n",
       "    </tr>\n",
       "    <tr>\n",
       "      <th>2</th>\n",
       "      <td>121982X</td>\n",
       "      <td>L</td>\n",
       "      <td>M</td>\n",
       "      <td>Padilla</td>\n",
       "      <td>Gilbert</td>\n",
       "      <td>Padilla, Gilbert</td>\n",
       "    </tr>\n",
       "    <tr>\n",
       "      <th>3</th>\n",
       "      <td>605484T</td>\n",
       "      <td>W</td>\n",
       "      <td>M</td>\n",
       "      <td>Poston</td>\n",
       "      <td>Jerry</td>\n",
       "      <td>Poston, Jerry</td>\n",
       "    </tr>\n",
       "    <tr>\n",
       "      <th>4</th>\n",
       "      <td>384832T</td>\n",
       "      <td>B</td>\n",
       "      <td>M</td>\n",
       "      <td>Mondy</td>\n",
       "      <td>Michael</td>\n",
       "      <td>Mondy, Michael</td>\n",
       "    </tr>\n",
       "  </tbody>\n",
       "</table>\n",
       "</div>"
      ],
      "text/plain": [
       "  case_number race gender  last_name first_name         full_name\n",
       "0      44523A    L      M     Patino    Michael   Patino, Michael\n",
       "1      44523A    W      M  Fillingim      Brian  Fillingim, Brian\n",
       "2     121982X    L      M    Padilla    Gilbert  Padilla, Gilbert\n",
       "3     605484T    W      M     Poston      Jerry     Poston, Jerry\n",
       "4     384832T    B      M      Mondy    Michael    Mondy, Michael"
      ]
     },
     "execution_count": 9,
     "metadata": {},
     "output_type": "execute_result"
    }
   ],
   "source": [
    "officers.head()"
   ]
  },
  {
   "cell_type": "markdown",
   "id": "1119602f",
   "metadata": {},
   "source": [
    "### SQL join syntax\n",
    "`(INNER) JOIN`: returns records that have matching values in both tables\n",
    "```SQL\n",
    "SELECT * FROM table_1 JOIN table_2 ON table_1.column_name_1=table_2.column_name_2\n",
    "```\n",
    "\n",
    "`LEFT JOIN`: returns all records from the left table, and the matched records from the right table\n",
    "```SQL\n",
    "SELECT * FROM table_1 LEFT JOIN table_2 ON table_1.column_name_1=table_2.column_name_2\n",
    "```"
   ]
  },
  {
   "cell_type": "code",
   "execution_count": 10,
   "id": "d865ea28",
   "metadata": {},
   "outputs": [],
   "source": [
    "officers = pd.read_sql('SELECT * FROM officers JOIN incidents ON officers.case_number=incidents.case_number', conn)"
   ]
  },
  {
   "cell_type": "code",
   "execution_count": 13,
   "id": "6483a18d",
   "metadata": {},
   "outputs": [
    {
     "data": {
      "text/html": [
       "<div>\n",
       "<style scoped>\n",
       "    .dataframe tbody tr th:only-of-type {\n",
       "        vertical-align: middle;\n",
       "    }\n",
       "\n",
       "    .dataframe tbody tr th {\n",
       "        vertical-align: top;\n",
       "    }\n",
       "\n",
       "    .dataframe thead th {\n",
       "        text-align: right;\n",
       "    }\n",
       "</style>\n",
       "<table border=\"1\" class=\"dataframe\">\n",
       "  <thead>\n",
       "    <tr style=\"text-align: right;\">\n",
       "      <th></th>\n",
       "      <th>case_number</th>\n",
       "      <th>race</th>\n",
       "      <th>gender</th>\n",
       "      <th>last_name</th>\n",
       "      <th>first_name</th>\n",
       "      <th>full_name</th>\n",
       "      <th>case_number</th>\n",
       "      <th>date</th>\n",
       "      <th>location</th>\n",
       "      <th>subject_statuses</th>\n",
       "      <th>...</th>\n",
       "      <th>subjects</th>\n",
       "      <th>subject_count</th>\n",
       "      <th>officers</th>\n",
       "      <th>officer_count</th>\n",
       "      <th>grand_jury_disposition</th>\n",
       "      <th>attorney_general_forms_url</th>\n",
       "      <th>summary_url</th>\n",
       "      <th>summary_text</th>\n",
       "      <th>latitude</th>\n",
       "      <th>longitude</th>\n",
       "    </tr>\n",
       "  </thead>\n",
       "  <tbody>\n",
       "    <tr>\n",
       "      <th>0</th>\n",
       "      <td>44523A</td>\n",
       "      <td>L</td>\n",
       "      <td>M</td>\n",
       "      <td>Patino</td>\n",
       "      <td>Michael</td>\n",
       "      <td>Patino, Michael</td>\n",
       "      <td>44523A</td>\n",
       "      <td>2013-02-23</td>\n",
       "      <td>3000 Chihuahua Street</td>\n",
       "      <td>Injured</td>\n",
       "      <td>...</td>\n",
       "      <td>Curry, James L/M</td>\n",
       "      <td>1</td>\n",
       "      <td>Patino, Michael L/M; Fillingim, Brian W/M</td>\n",
       "      <td>2</td>\n",
       "      <td>No Bill</td>\n",
       "      <td>None</td>\n",
       "      <td>http://dallaspolice.net/reports/OIS/narrative/...</td>\n",
       "      <td>On Saturday, February 23, 2013, at approximate...</td>\n",
       "      <td>NaN</td>\n",
       "      <td>NaN</td>\n",
       "    </tr>\n",
       "    <tr>\n",
       "      <th>1</th>\n",
       "      <td>44523A</td>\n",
       "      <td>W</td>\n",
       "      <td>M</td>\n",
       "      <td>Fillingim</td>\n",
       "      <td>Brian</td>\n",
       "      <td>Fillingim, Brian</td>\n",
       "      <td>44523A</td>\n",
       "      <td>2013-02-23</td>\n",
       "      <td>3000 Chihuahua Street</td>\n",
       "      <td>Injured</td>\n",
       "      <td>...</td>\n",
       "      <td>Curry, James L/M</td>\n",
       "      <td>1</td>\n",
       "      <td>Patino, Michael L/M; Fillingim, Brian W/M</td>\n",
       "      <td>2</td>\n",
       "      <td>No Bill</td>\n",
       "      <td>None</td>\n",
       "      <td>http://dallaspolice.net/reports/OIS/narrative/...</td>\n",
       "      <td>On Saturday, February 23, 2013, at approximate...</td>\n",
       "      <td>NaN</td>\n",
       "      <td>NaN</td>\n",
       "    </tr>\n",
       "    <tr>\n",
       "      <th>2</th>\n",
       "      <td>121982X</td>\n",
       "      <td>L</td>\n",
       "      <td>M</td>\n",
       "      <td>Padilla</td>\n",
       "      <td>Gilbert</td>\n",
       "      <td>Padilla, Gilbert</td>\n",
       "      <td>121982X</td>\n",
       "      <td>2010-05-03</td>\n",
       "      <td>1300 N. Munger Boulevard</td>\n",
       "      <td>Injured</td>\n",
       "      <td>...</td>\n",
       "      <td>Chavez, Gabriel L/M</td>\n",
       "      <td>1</td>\n",
       "      <td>Padilla, Gilbert L/M</td>\n",
       "      <td>1</td>\n",
       "      <td>No Bill</td>\n",
       "      <td>None</td>\n",
       "      <td>http://dallaspolice.net/reports/OIS/narrative/...</td>\n",
       "      <td>On Monday, May 3, 2010, at approximately 8:06 ...</td>\n",
       "      <td>NaN</td>\n",
       "      <td>NaN</td>\n",
       "    </tr>\n",
       "    <tr>\n",
       "      <th>3</th>\n",
       "      <td>605484T</td>\n",
       "      <td>W</td>\n",
       "      <td>M</td>\n",
       "      <td>Poston</td>\n",
       "      <td>Jerry</td>\n",
       "      <td>Poston, Jerry</td>\n",
       "      <td>605484T</td>\n",
       "      <td>2007-08-12</td>\n",
       "      <td>200 S. Stemmons Freeway</td>\n",
       "      <td>Other</td>\n",
       "      <td>...</td>\n",
       "      <td>Salinas, Nick L/M</td>\n",
       "      <td>1</td>\n",
       "      <td>Poston, Jerry W/M</td>\n",
       "      <td>1</td>\n",
       "      <td>See Summary</td>\n",
       "      <td>None</td>\n",
       "      <td>http://dallaspolice.net/reports/OIS/narrative/...</td>\n",
       "      <td>On Sunday, August 12, 2007, at approximately 2...</td>\n",
       "      <td>NaN</td>\n",
       "      <td>NaN</td>\n",
       "    </tr>\n",
       "    <tr>\n",
       "      <th>4</th>\n",
       "      <td>384832T</td>\n",
       "      <td>B</td>\n",
       "      <td>M</td>\n",
       "      <td>Mondy</td>\n",
       "      <td>Michael</td>\n",
       "      <td>Mondy, Michael</td>\n",
       "      <td>384832T</td>\n",
       "      <td>2007-05-26</td>\n",
       "      <td>7900 S. Loop 12</td>\n",
       "      <td>Shoot and Miss</td>\n",
       "      <td>...</td>\n",
       "      <td>Smith, James B/M; Dews, Antonio B/M; Spearman,...</td>\n",
       "      <td>3</td>\n",
       "      <td>Mondy, Michael B/M</td>\n",
       "      <td>1</td>\n",
       "      <td>None</td>\n",
       "      <td>None</td>\n",
       "      <td>http://dallaspolice.net/reports/OIS/narrative/...</td>\n",
       "      <td>On Saturday, May 26, 2007, at approximately 1:...</td>\n",
       "      <td>NaN</td>\n",
       "      <td>NaN</td>\n",
       "    </tr>\n",
       "  </tbody>\n",
       "</table>\n",
       "<p>5 rows × 21 columns</p>\n",
       "</div>"
      ],
      "text/plain": [
       "  case_number race gender  last_name first_name         full_name case_number  \\\n",
       "0      44523A    L      M     Patino    Michael   Patino, Michael      44523A   \n",
       "1      44523A    W      M  Fillingim      Brian  Fillingim, Brian      44523A   \n",
       "2     121982X    L      M    Padilla    Gilbert  Padilla, Gilbert     121982X   \n",
       "3     605484T    W      M     Poston      Jerry     Poston, Jerry     605484T   \n",
       "4     384832T    B      M      Mondy    Michael    Mondy, Michael     384832T   \n",
       "\n",
       "         date                  location subject_statuses  ...  \\\n",
       "0  2013-02-23     3000 Chihuahua Street          Injured  ...   \n",
       "1  2013-02-23     3000 Chihuahua Street          Injured  ...   \n",
       "2  2010-05-03  1300 N. Munger Boulevard          Injured  ...   \n",
       "3  2007-08-12   200 S. Stemmons Freeway            Other  ...   \n",
       "4  2007-05-26           7900 S. Loop 12   Shoot and Miss  ...   \n",
       "\n",
       "                                            subjects subject_count  \\\n",
       "0                                   Curry, James L/M             1   \n",
       "1                                   Curry, James L/M             1   \n",
       "2                                Chavez, Gabriel L/M             1   \n",
       "3                                  Salinas, Nick L/M             1   \n",
       "4  Smith, James B/M; Dews, Antonio B/M; Spearman,...             3   \n",
       "\n",
       "                                    officers officer_count  \\\n",
       "0  Patino, Michael L/M; Fillingim, Brian W/M             2   \n",
       "1  Patino, Michael L/M; Fillingim, Brian W/M             2   \n",
       "2                       Padilla, Gilbert L/M             1   \n",
       "3                          Poston, Jerry W/M             1   \n",
       "4                         Mondy, Michael B/M             1   \n",
       "\n",
       "   grand_jury_disposition attorney_general_forms_url  \\\n",
       "0                 No Bill                       None   \n",
       "1                 No Bill                       None   \n",
       "2                 No Bill                       None   \n",
       "3             See Summary                       None   \n",
       "4                    None                       None   \n",
       "\n",
       "                                         summary_url  \\\n",
       "0  http://dallaspolice.net/reports/OIS/narrative/...   \n",
       "1  http://dallaspolice.net/reports/OIS/narrative/...   \n",
       "2  http://dallaspolice.net/reports/OIS/narrative/...   \n",
       "3  http://dallaspolice.net/reports/OIS/narrative/...   \n",
       "4  http://dallaspolice.net/reports/OIS/narrative/...   \n",
       "\n",
       "                                        summary_text latitude  longitude  \n",
       "0  On Saturday, February 23, 2013, at approximate...      NaN        NaN  \n",
       "1  On Saturday, February 23, 2013, at approximate...      NaN        NaN  \n",
       "2  On Monday, May 3, 2010, at approximately 8:06 ...      NaN        NaN  \n",
       "3  On Sunday, August 12, 2007, at approximately 2...      NaN        NaN  \n",
       "4  On Saturday, May 26, 2007, at approximately 1:...      NaN        NaN  \n",
       "\n",
       "[5 rows x 21 columns]"
      ]
     },
     "execution_count": 13,
     "metadata": {},
     "output_type": "execute_result"
    }
   ],
   "source": [
    "officers.head()"
   ]
  },
  {
   "cell_type": "code",
   "execution_count": 11,
   "id": "ba29fc24",
   "metadata": {},
   "outputs": [],
   "source": [
    "incidents = pd.read_sql('SELECT * FROM incidents', conn)"
   ]
  },
  {
   "cell_type": "code",
   "execution_count": 12,
   "id": "e90342b0",
   "metadata": {},
   "outputs": [
    {
     "data": {
      "text/plain": [
       "(219, 15)"
      ]
     },
     "execution_count": 12,
     "metadata": {},
     "output_type": "execute_result"
    }
   ],
   "source": [
    "incidents.shape"
   ]
  },
  {
   "cell_type": "code",
   "execution_count": 13,
   "id": "a77cca84",
   "metadata": {},
   "outputs": [],
   "source": [
    "subjects = pd.read_sql('SELECT * FROM subjects', conn)"
   ]
  },
  {
   "cell_type": "code",
   "execution_count": 14,
   "id": "e996bcfc",
   "metadata": {},
   "outputs": [
    {
     "data": {
      "text/plain": [
       "(223, 6)"
      ]
     },
     "execution_count": 14,
     "metadata": {},
     "output_type": "execute_result"
    }
   ],
   "source": [
    "subjects.shape"
   ]
  },
  {
   "cell_type": "code",
   "execution_count": null,
   "id": "6874cf79",
   "metadata": {},
   "outputs": [],
   "source": []
  }
 ],
 "metadata": {
  "kernelspec": {
   "display_name": "Python 3.9.2 64-bit",
   "language": "python",
   "name": "python3"
  },
  "language_info": {
   "codemirror_mode": {
    "name": "ipython",
    "version": 3
   },
   "file_extension": ".py",
   "mimetype": "text/x-python",
   "name": "python",
   "nbconvert_exporter": "python",
   "pygments_lexer": "ipython3",
   "version": "3.9.2"
  },
  "vscode": {
   "interpreter": {
    "hash": "81794d4967e6c3204c66dcd87b604927b115b27c00565d3d43f05ba2f3a2cb0d"
   }
  }
 },
 "nbformat": 4,
 "nbformat_minor": 5
}
