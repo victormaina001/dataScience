{
 "cells": [
  {
   "cell_type": "markdown",
   "id": "39c877c9",
   "metadata": {},
   "source": [
    "# Project - Feature Scaling"
   ]
  },
  {
   "cell_type": "markdown",
   "id": "26869a35",
   "metadata": {},
   "source": [
    "![Data Science Workflow](img/ds-workflow.png)"
   ]
  },
  {
   "cell_type": "markdown",
   "id": "7fc443c2",
   "metadata": {},
   "source": [
    "## Goal of Project\n",
    "- A sport magazine is writing an article on soccer players\n",
    "- They have a special interest in left-footed players\n",
    "- A question is whether they playing style can predict if a player is left-footed\n",
    "- The questions they want to answer:\n",
    "    - Can you from a features set on players predict if it is left-footed player\n",
    "    - If so, what features matters the most"
   ]
  },
  {
   "cell_type": "markdown",
   "id": "77f362c4",
   "metadata": {},
   "source": [
    "## Step 1: Acquire\n",
    "- Explore problem\n",
    "- Identify data\n",
    "- Import data"
   ]
  },
  {
   "cell_type": "markdown",
   "id": "6f8cbbcb",
   "metadata": {},
   "source": [
    "### Step 1.a: Import libraries\n",
    "- Execute the cell below (SHIFT + ENTER)"
   ]
  },
  {
   "cell_type": "code",
   "execution_count": 1,
   "id": "9b9c78d1",
   "metadata": {},
   "outputs": [],
   "source": [
    "import pandas as pd\n",
    "from sklearn.model_selection import train_test_split\n",
    "from sklearn.preprocessing import MinMaxScaler\n",
    "from sklearn.preprocessing import StandardScaler\n",
    "from sklearn.metrics import accuracy_score\n",
    "from sklearn.inspection import permutation_importance\n",
    "from sklearn.svm import SVC\n",
    "import numpy as np\n",
    "import matplotlib.pyplot as plt\n",
    "%matplotlib inline"
   ]
  },
  {
   "cell_type": "markdown",
   "id": "b5f9a799",
   "metadata": {},
   "source": [
    "### Step 1.b: Read the data\n",
    "- Use ```pd.read_parquet()``` to read the file `files/soccer.parquet`\n",
    "    - The data is from [Kaggle European Soccer Database](https://www.kaggle.com/hugomathien/soccer)\n",
    "- NOTE: Remember to assign the result to a variable (e.g., ```data```)\n",
    "- Apply ```.head()``` on the data to see all is as expected"
   ]
  },
  {
   "cell_type": "code",
   "execution_count": 2,
   "id": "412ecf3c",
   "metadata": {},
   "outputs": [],
   "source": [
    "data = pd.read_parquet('files/soccer.parquet')"
   ]
  },
  {
   "cell_type": "code",
   "execution_count": 3,
   "id": "ed205190",
   "metadata": {},
   "outputs": [
    {
     "data": {
      "text/html": [
       "<div>\n",
       "<style scoped>\n",
       "    .dataframe tbody tr th:only-of-type {\n",
       "        vertical-align: middle;\n",
       "    }\n",
       "\n",
       "    .dataframe tbody tr th {\n",
       "        vertical-align: top;\n",
       "    }\n",
       "\n",
       "    .dataframe thead th {\n",
       "        text-align: right;\n",
       "    }\n",
       "</style>\n",
       "<table border=\"1\" class=\"dataframe\">\n",
       "  <thead>\n",
       "    <tr style=\"text-align: right;\">\n",
       "      <th></th>\n",
       "      <th>player_fifa_api_id</th>\n",
       "      <th>player_api_id</th>\n",
       "      <th>date</th>\n",
       "      <th>overall_rating</th>\n",
       "      <th>potential</th>\n",
       "      <th>preferred_foot</th>\n",
       "      <th>attacking_work_rate</th>\n",
       "      <th>defensive_work_rate</th>\n",
       "      <th>crossing</th>\n",
       "      <th>finishing</th>\n",
       "      <th>...</th>\n",
       "      <th>vision</th>\n",
       "      <th>penalties</th>\n",
       "      <th>marking</th>\n",
       "      <th>standing_tackle</th>\n",
       "      <th>sliding_tackle</th>\n",
       "      <th>gk_diving</th>\n",
       "      <th>gk_handling</th>\n",
       "      <th>gk_kicking</th>\n",
       "      <th>gk_positioning</th>\n",
       "      <th>gk_reflexes</th>\n",
       "    </tr>\n",
       "    <tr>\n",
       "      <th>id</th>\n",
       "      <th></th>\n",
       "      <th></th>\n",
       "      <th></th>\n",
       "      <th></th>\n",
       "      <th></th>\n",
       "      <th></th>\n",
       "      <th></th>\n",
       "      <th></th>\n",
       "      <th></th>\n",
       "      <th></th>\n",
       "      <th></th>\n",
       "      <th></th>\n",
       "      <th></th>\n",
       "      <th></th>\n",
       "      <th></th>\n",
       "      <th></th>\n",
       "      <th></th>\n",
       "      <th></th>\n",
       "      <th></th>\n",
       "      <th></th>\n",
       "      <th></th>\n",
       "    </tr>\n",
       "  </thead>\n",
       "  <tbody>\n",
       "    <tr>\n",
       "      <th>1</th>\n",
       "      <td>218353</td>\n",
       "      <td>505942</td>\n",
       "      <td>2016-02-18 00:00:00</td>\n",
       "      <td>67.0</td>\n",
       "      <td>71.0</td>\n",
       "      <td>right</td>\n",
       "      <td>medium</td>\n",
       "      <td>medium</td>\n",
       "      <td>49.0</td>\n",
       "      <td>44.0</td>\n",
       "      <td>...</td>\n",
       "      <td>54.0</td>\n",
       "      <td>48.0</td>\n",
       "      <td>65.0</td>\n",
       "      <td>69.0</td>\n",
       "      <td>69.0</td>\n",
       "      <td>6.0</td>\n",
       "      <td>11.0</td>\n",
       "      <td>10.0</td>\n",
       "      <td>8.0</td>\n",
       "      <td>8.0</td>\n",
       "    </tr>\n",
       "    <tr>\n",
       "      <th>2</th>\n",
       "      <td>218353</td>\n",
       "      <td>505942</td>\n",
       "      <td>2015-11-19 00:00:00</td>\n",
       "      <td>67.0</td>\n",
       "      <td>71.0</td>\n",
       "      <td>right</td>\n",
       "      <td>medium</td>\n",
       "      <td>medium</td>\n",
       "      <td>49.0</td>\n",
       "      <td>44.0</td>\n",
       "      <td>...</td>\n",
       "      <td>54.0</td>\n",
       "      <td>48.0</td>\n",
       "      <td>65.0</td>\n",
       "      <td>69.0</td>\n",
       "      <td>69.0</td>\n",
       "      <td>6.0</td>\n",
       "      <td>11.0</td>\n",
       "      <td>10.0</td>\n",
       "      <td>8.0</td>\n",
       "      <td>8.0</td>\n",
       "    </tr>\n",
       "    <tr>\n",
       "      <th>3</th>\n",
       "      <td>218353</td>\n",
       "      <td>505942</td>\n",
       "      <td>2015-09-21 00:00:00</td>\n",
       "      <td>62.0</td>\n",
       "      <td>66.0</td>\n",
       "      <td>right</td>\n",
       "      <td>medium</td>\n",
       "      <td>medium</td>\n",
       "      <td>49.0</td>\n",
       "      <td>44.0</td>\n",
       "      <td>...</td>\n",
       "      <td>54.0</td>\n",
       "      <td>48.0</td>\n",
       "      <td>65.0</td>\n",
       "      <td>66.0</td>\n",
       "      <td>69.0</td>\n",
       "      <td>6.0</td>\n",
       "      <td>11.0</td>\n",
       "      <td>10.0</td>\n",
       "      <td>8.0</td>\n",
       "      <td>8.0</td>\n",
       "    </tr>\n",
       "    <tr>\n",
       "      <th>4</th>\n",
       "      <td>218353</td>\n",
       "      <td>505942</td>\n",
       "      <td>2015-03-20 00:00:00</td>\n",
       "      <td>61.0</td>\n",
       "      <td>65.0</td>\n",
       "      <td>right</td>\n",
       "      <td>medium</td>\n",
       "      <td>medium</td>\n",
       "      <td>48.0</td>\n",
       "      <td>43.0</td>\n",
       "      <td>...</td>\n",
       "      <td>53.0</td>\n",
       "      <td>47.0</td>\n",
       "      <td>62.0</td>\n",
       "      <td>63.0</td>\n",
       "      <td>66.0</td>\n",
       "      <td>5.0</td>\n",
       "      <td>10.0</td>\n",
       "      <td>9.0</td>\n",
       "      <td>7.0</td>\n",
       "      <td>7.0</td>\n",
       "    </tr>\n",
       "    <tr>\n",
       "      <th>5</th>\n",
       "      <td>218353</td>\n",
       "      <td>505942</td>\n",
       "      <td>2007-02-22 00:00:00</td>\n",
       "      <td>61.0</td>\n",
       "      <td>65.0</td>\n",
       "      <td>right</td>\n",
       "      <td>medium</td>\n",
       "      <td>medium</td>\n",
       "      <td>48.0</td>\n",
       "      <td>43.0</td>\n",
       "      <td>...</td>\n",
       "      <td>53.0</td>\n",
       "      <td>47.0</td>\n",
       "      <td>62.0</td>\n",
       "      <td>63.0</td>\n",
       "      <td>66.0</td>\n",
       "      <td>5.0</td>\n",
       "      <td>10.0</td>\n",
       "      <td>9.0</td>\n",
       "      <td>7.0</td>\n",
       "      <td>7.0</td>\n",
       "    </tr>\n",
       "  </tbody>\n",
       "</table>\n",
       "<p>5 rows × 41 columns</p>\n",
       "</div>"
      ],
      "text/plain": [
       "    player_fifa_api_id  player_api_id                 date  overall_rating  \\\n",
       "id                                                                           \n",
       "1               218353         505942  2016-02-18 00:00:00            67.0   \n",
       "2               218353         505942  2015-11-19 00:00:00            67.0   \n",
       "3               218353         505942  2015-09-21 00:00:00            62.0   \n",
       "4               218353         505942  2015-03-20 00:00:00            61.0   \n",
       "5               218353         505942  2007-02-22 00:00:00            61.0   \n",
       "\n",
       "    potential preferred_foot attacking_work_rate defensive_work_rate  \\\n",
       "id                                                                     \n",
       "1        71.0          right              medium              medium   \n",
       "2        71.0          right              medium              medium   \n",
       "3        66.0          right              medium              medium   \n",
       "4        65.0          right              medium              medium   \n",
       "5        65.0          right              medium              medium   \n",
       "\n",
       "    crossing  finishing  ...  vision  penalties  marking  standing_tackle  \\\n",
       "id                       ...                                                \n",
       "1       49.0       44.0  ...    54.0       48.0     65.0             69.0   \n",
       "2       49.0       44.0  ...    54.0       48.0     65.0             69.0   \n",
       "3       49.0       44.0  ...    54.0       48.0     65.0             66.0   \n",
       "4       48.0       43.0  ...    53.0       47.0     62.0             63.0   \n",
       "5       48.0       43.0  ...    53.0       47.0     62.0             63.0   \n",
       "\n",
       "    sliding_tackle  gk_diving  gk_handling  gk_kicking  gk_positioning  \\\n",
       "id                                                                       \n",
       "1             69.0        6.0         11.0        10.0             8.0   \n",
       "2             69.0        6.0         11.0        10.0             8.0   \n",
       "3             69.0        6.0         11.0        10.0             8.0   \n",
       "4             66.0        5.0         10.0         9.0             7.0   \n",
       "5             66.0        5.0         10.0         9.0             7.0   \n",
       "\n",
       "    gk_reflexes  \n",
       "id               \n",
       "1           8.0  \n",
       "2           8.0  \n",
       "3           8.0  \n",
       "4           7.0  \n",
       "5           7.0  \n",
       "\n",
       "[5 rows x 41 columns]"
      ]
     },
     "execution_count": 3,
     "metadata": {},
     "output_type": "execute_result"
    }
   ],
   "source": [
    "data.head()"
   ]
  },
  {
   "cell_type": "markdown",
   "id": "3bec949d",
   "metadata": {},
   "source": [
    "## Step 2: Prepare\n",
    "- Explore data\n",
    "- Visualize ideas\n",
    "- Cleaning data"
   ]
  },
  {
   "cell_type": "markdown",
   "id": "6a5d948d",
   "metadata": {},
   "source": [
    "### Step 2.a: Check the data types\n",
    "- This step tells you if some numeric column is not represented numeric.\n",
    "- Apply `info()` to get an idea of the data"
   ]
  },
  {
   "cell_type": "code",
   "execution_count": 4,
   "id": "8876f666",
   "metadata": {},
   "outputs": [
    {
     "name": "stdout",
     "output_type": "stream",
     "text": [
      "<class 'pandas.core.frame.DataFrame'>\n",
      "Int64Index: 183978 entries, 1 to 183978\n",
      "Data columns (total 41 columns):\n",
      " #   Column               Non-Null Count   Dtype  \n",
      "---  ------               --------------   -----  \n",
      " 0   player_fifa_api_id   183978 non-null  int64  \n",
      " 1   player_api_id        183978 non-null  int64  \n",
      " 2   date                 183978 non-null  object \n",
      " 3   overall_rating       183142 non-null  float64\n",
      " 4   potential            183142 non-null  float64\n",
      " 5   preferred_foot       183142 non-null  object \n",
      " 6   attacking_work_rate  180748 non-null  object \n",
      " 7   defensive_work_rate  183142 non-null  object \n",
      " 8   crossing             183142 non-null  float64\n",
      " 9   finishing            183142 non-null  float64\n",
      " 10  heading_accuracy     183142 non-null  float64\n",
      " 11  short_passing        183142 non-null  float64\n",
      " 12  volleys              181265 non-null  float64\n",
      " 13  dribbling            183142 non-null  float64\n",
      " 14  curve                181265 non-null  float64\n",
      " 15  free_kick_accuracy   183142 non-null  float64\n",
      " 16  long_passing         183142 non-null  float64\n",
      " 17  ball_control         183142 non-null  float64\n",
      " 18  acceleration         183142 non-null  float64\n",
      " 19  sprint_speed         183142 non-null  float64\n",
      " 20  agility              181265 non-null  float64\n",
      " 21  reactions            183142 non-null  float64\n",
      " 22  balance              181265 non-null  float64\n",
      " 23  shot_power           183142 non-null  float64\n",
      " 24  jumping              181265 non-null  float64\n",
      " 25  stamina              183142 non-null  float64\n",
      " 26  strength             183142 non-null  float64\n",
      " 27  long_shots           183142 non-null  float64\n",
      " 28  aggression           183142 non-null  float64\n",
      " 29  interceptions        183142 non-null  float64\n",
      " 30  positioning          183142 non-null  float64\n",
      " 31  vision               181265 non-null  float64\n",
      " 32  penalties            183142 non-null  float64\n",
      " 33  marking              183142 non-null  float64\n",
      " 34  standing_tackle      183142 non-null  float64\n",
      " 35  sliding_tackle       181265 non-null  float64\n",
      " 36  gk_diving            183142 non-null  float64\n",
      " 37  gk_handling          183142 non-null  float64\n",
      " 38  gk_kicking           183142 non-null  float64\n",
      " 39  gk_positioning       183142 non-null  float64\n",
      " 40  gk_reflexes          183142 non-null  float64\n",
      "dtypes: float64(35), int64(2), object(4)\n",
      "memory usage: 59.0+ MB\n"
     ]
    }
   ],
   "source": [
    "data.info()"
   ]
  },
  {
   "cell_type": "markdown",
   "id": "2867789a",
   "metadata": {},
   "source": [
    "### Step 2.b: Check for null (missing) values\n",
    "- Data often is missing entries - there can be many reasons for this\n",
    "- We need to deal with that (will do later in course)\n",
    "- Use ```.isnull().any()``` and `.isnull().sum()`"
   ]
  },
  {
   "cell_type": "code",
   "execution_count": 5,
   "id": "e1b902e3",
   "metadata": {},
   "outputs": [
    {
     "data": {
      "text/plain": [
       "player_fifa_api_id     False\n",
       "player_api_id          False\n",
       "date                   False\n",
       "overall_rating          True\n",
       "potential               True\n",
       "preferred_foot          True\n",
       "attacking_work_rate     True\n",
       "defensive_work_rate     True\n",
       "crossing                True\n",
       "finishing               True\n",
       "heading_accuracy        True\n",
       "short_passing           True\n",
       "volleys                 True\n",
       "dribbling               True\n",
       "curve                   True\n",
       "free_kick_accuracy      True\n",
       "long_passing            True\n",
       "ball_control            True\n",
       "acceleration            True\n",
       "sprint_speed            True\n",
       "agility                 True\n",
       "reactions               True\n",
       "balance                 True\n",
       "shot_power              True\n",
       "jumping                 True\n",
       "stamina                 True\n",
       "strength                True\n",
       "long_shots              True\n",
       "aggression              True\n",
       "interceptions           True\n",
       "positioning             True\n",
       "vision                  True\n",
       "penalties               True\n",
       "marking                 True\n",
       "standing_tackle         True\n",
       "sliding_tackle          True\n",
       "gk_diving               True\n",
       "gk_handling             True\n",
       "gk_kicking              True\n",
       "gk_positioning          True\n",
       "gk_reflexes             True\n",
       "dtype: bool"
      ]
     },
     "execution_count": 5,
     "metadata": {},
     "output_type": "execute_result"
    }
   ],
   "source": [
    "data.isnull().any()"
   ]
  },
  {
   "cell_type": "code",
   "execution_count": 6,
   "id": "a83616a5",
   "metadata": {},
   "outputs": [
    {
     "data": {
      "text/plain": [
       "player_fifa_api_id        0\n",
       "player_api_id             0\n",
       "date                      0\n",
       "overall_rating          836\n",
       "potential               836\n",
       "preferred_foot          836\n",
       "attacking_work_rate    3230\n",
       "defensive_work_rate     836\n",
       "crossing                836\n",
       "finishing               836\n",
       "heading_accuracy        836\n",
       "short_passing           836\n",
       "volleys                2713\n",
       "dribbling               836\n",
       "curve                  2713\n",
       "free_kick_accuracy      836\n",
       "long_passing            836\n",
       "ball_control            836\n",
       "acceleration            836\n",
       "sprint_speed            836\n",
       "agility                2713\n",
       "reactions               836\n",
       "balance                2713\n",
       "shot_power              836\n",
       "jumping                2713\n",
       "stamina                 836\n",
       "strength                836\n",
       "long_shots              836\n",
       "aggression              836\n",
       "interceptions           836\n",
       "positioning             836\n",
       "vision                 2713\n",
       "penalties               836\n",
       "marking                 836\n",
       "standing_tackle         836\n",
       "sliding_tackle         2713\n",
       "gk_diving               836\n",
       "gk_handling             836\n",
       "gk_kicking              836\n",
       "gk_positioning          836\n",
       "gk_reflexes             836\n",
       "dtype: int64"
      ]
     },
     "execution_count": 6,
     "metadata": {},
     "output_type": "execute_result"
    }
   ],
   "source": [
    "data.isnull().sum()"
   ]
  },
  {
   "cell_type": "code",
   "execution_count": null,
   "id": "519b0c0f",
   "metadata": {},
   "outputs": [],
   "source": []
  },
  {
   "cell_type": "markdown",
   "id": "137fdfde",
   "metadata": {},
   "source": [
    "### Step 2.c: Drop missing data\n",
    "- A great idea is to investigate missing data and outliers\n",
    "- But for this project we ignore it\n",
    "- Apply `dropna()`"
   ]
  },
  {
   "cell_type": "code",
   "execution_count": 7,
   "id": "9047726d",
   "metadata": {},
   "outputs": [],
   "source": [
    "data = data.dropna()"
   ]
  },
  {
   "cell_type": "code",
   "execution_count": 8,
   "id": "f78e90f6",
   "metadata": {},
   "outputs": [
    {
     "data": {
      "text/plain": [
       "player_fifa_api_id     0\n",
       "player_api_id          0\n",
       "date                   0\n",
       "overall_rating         0\n",
       "potential              0\n",
       "preferred_foot         0\n",
       "attacking_work_rate    0\n",
       "defensive_work_rate    0\n",
       "crossing               0\n",
       "finishing              0\n",
       "heading_accuracy       0\n",
       "short_passing          0\n",
       "volleys                0\n",
       "dribbling              0\n",
       "curve                  0\n",
       "free_kick_accuracy     0\n",
       "long_passing           0\n",
       "ball_control           0\n",
       "acceleration           0\n",
       "sprint_speed           0\n",
       "agility                0\n",
       "reactions              0\n",
       "balance                0\n",
       "shot_power             0\n",
       "jumping                0\n",
       "stamina                0\n",
       "strength               0\n",
       "long_shots             0\n",
       "aggression             0\n",
       "interceptions          0\n",
       "positioning            0\n",
       "vision                 0\n",
       "penalties              0\n",
       "marking                0\n",
       "standing_tackle        0\n",
       "sliding_tackle         0\n",
       "gk_diving              0\n",
       "gk_handling            0\n",
       "gk_kicking             0\n",
       "gk_positioning         0\n",
       "gk_reflexes            0\n",
       "dtype: int64"
      ]
     },
     "execution_count": 8,
     "metadata": {},
     "output_type": "execute_result"
    }
   ],
   "source": [
    "data.isna().sum()"
   ]
  },
  {
   "cell_type": "markdown",
   "id": "599e5352",
   "metadata": {},
   "source": [
    "### Step 2.d: Limite dataset size\n",
    "- This project is only for demonstration\n",
    "- Limit the dataset to the first 2000 rows\n",
    "    - HINT: `iloc[:2000]`"
   ]
  },
  {
   "cell_type": "code",
   "execution_count": 9,
   "id": "441aaa60",
   "metadata": {},
   "outputs": [
    {
     "data": {
      "text/plain": [
       "2000"
      ]
     },
     "execution_count": 9,
     "metadata": {},
     "output_type": "execute_result"
    }
   ],
   "source": [
    "data = data.iloc[:2000]\n",
    "len(data)"
   ]
  },
  {
   "cell_type": "markdown",
   "id": "8cc1cabe",
   "metadata": {},
   "source": [
    "## Step 3: Analyze\n",
    "- Feature selection\n",
    "- Model selection\n",
    "- Analyze data"
   ]
  },
  {
   "cell_type": "markdown",
   "id": "6600abc1",
   "metadata": {},
   "source": [
    "### Step 3.a: Feature Selection\n",
    "- The classifier we want to predict is `preferred_foot` (independent feature/classification)\n",
    "- For now we keep the other numeric features as depdent features\n",
    "    - HINT: Use `.info()` to see numeric columns\n",
    "    - HINT: Use `.drop([...], axis=1)`\n",
    "- Assign the dependent features to `X` and the independent feature to `y`"
   ]
  },
  {
   "cell_type": "code",
   "execution_count": 10,
   "id": "597d9cae",
   "metadata": {},
   "outputs": [
    {
     "name": "stdout",
     "output_type": "stream",
     "text": [
      "<class 'pandas.core.frame.DataFrame'>\n",
      "Int64Index: 2000 entries, 1 to 2043\n",
      "Data columns (total 41 columns):\n",
      " #   Column               Non-Null Count  Dtype  \n",
      "---  ------               --------------  -----  \n",
      " 0   player_fifa_api_id   2000 non-null   int64  \n",
      " 1   player_api_id        2000 non-null   int64  \n",
      " 2   date                 2000 non-null   object \n",
      " 3   overall_rating       2000 non-null   float64\n",
      " 4   potential            2000 non-null   float64\n",
      " 5   preferred_foot       2000 non-null   object \n",
      " 6   attacking_work_rate  2000 non-null   object \n",
      " 7   defensive_work_rate  2000 non-null   object \n",
      " 8   crossing             2000 non-null   float64\n",
      " 9   finishing            2000 non-null   float64\n",
      " 10  heading_accuracy     2000 non-null   float64\n",
      " 11  short_passing        2000 non-null   float64\n",
      " 12  volleys              2000 non-null   float64\n",
      " 13  dribbling            2000 non-null   float64\n",
      " 14  curve                2000 non-null   float64\n",
      " 15  free_kick_accuracy   2000 non-null   float64\n",
      " 16  long_passing         2000 non-null   float64\n",
      " 17  ball_control         2000 non-null   float64\n",
      " 18  acceleration         2000 non-null   float64\n",
      " 19  sprint_speed         2000 non-null   float64\n",
      " 20  agility              2000 non-null   float64\n",
      " 21  reactions            2000 non-null   float64\n",
      " 22  balance              2000 non-null   float64\n",
      " 23  shot_power           2000 non-null   float64\n",
      " 24  jumping              2000 non-null   float64\n",
      " 25  stamina              2000 non-null   float64\n",
      " 26  strength             2000 non-null   float64\n",
      " 27  long_shots           2000 non-null   float64\n",
      " 28  aggression           2000 non-null   float64\n",
      " 29  interceptions        2000 non-null   float64\n",
      " 30  positioning          2000 non-null   float64\n",
      " 31  vision               2000 non-null   float64\n",
      " 32  penalties            2000 non-null   float64\n",
      " 33  marking              2000 non-null   float64\n",
      " 34  standing_tackle      2000 non-null   float64\n",
      " 35  sliding_tackle       2000 non-null   float64\n",
      " 36  gk_diving            2000 non-null   float64\n",
      " 37  gk_handling          2000 non-null   float64\n",
      " 38  gk_kicking           2000 non-null   float64\n",
      " 39  gk_positioning       2000 non-null   float64\n",
      " 40  gk_reflexes          2000 non-null   float64\n",
      "dtypes: float64(35), int64(2), object(4)\n",
      "memory usage: 656.2+ KB\n"
     ]
    }
   ],
   "source": [
    "data.info()"
   ]
  },
  {
   "cell_type": "code",
   "execution_count": 11,
   "id": "9738b8b3",
   "metadata": {},
   "outputs": [],
   "source": [
    "X = data.drop(['date', 'preferred_foot', 'attacking_work_rate', 'defensive_work_rate'], axis=1)\n",
    "y = data['preferred_foot']"
   ]
  },
  {
   "cell_type": "markdown",
   "id": "2c1b5fc0",
   "metadata": {},
   "source": [
    "### Step 3.b: Split into train and test\n",
    "- Use `train_test_split` to divide into train and test data.\n",
    "- A great thing is to use `random_state` to be able to reproduce while experimenting\n",
    "```Python\n",
    "X_train, X_test, y_train, y_test = train_test_split(X, y, test_size=0.25, random_state=42)\n",
    "```"
   ]
  },
  {
   "cell_type": "code",
   "execution_count": 12,
   "id": "1f4abbb2",
   "metadata": {},
   "outputs": [],
   "source": [
    "X_train, X_test, y_train, y_test = train_test_split(X, y, test_size=0.25, random_state=42)"
   ]
  },
  {
   "cell_type": "markdown",
   "id": "10fb4b4c",
   "metadata": {},
   "source": [
    "### Step 3.c: Normalize data\n",
    "- Create a `MinMaxScaler()`\n",
    "- Fit it on the `X_train` dataset\n",
    "- Then transform `X_train` and `X_test`\n",
    "- Remember to assign the results to unique variables"
   ]
  },
  {
   "cell_type": "code",
   "execution_count": 13,
   "id": "4b1b8087",
   "metadata": {},
   "outputs": [],
   "source": [
    "norm = MinMaxScaler().fit(X_train)\n",
    "\n",
    "X_train_norm = norm.transform(X_train)\n",
    "X_test_norm = norm.transform(X_test)"
   ]
  },
  {
   "cell_type": "markdown",
   "id": "ae1c0e31",
   "metadata": {},
   "source": [
    "### Step 3.c: Standardize data\n",
    "- Create a `StandardScaler()`\n",
    "- Fit it on the `X_train` dataset\n",
    "- Then transform `X_train` and `X_test`\n",
    "- Remember to assign the results to unique variables"
   ]
  },
  {
   "cell_type": "code",
   "execution_count": 14,
   "id": "ef2abe3d",
   "metadata": {},
   "outputs": [],
   "source": [
    "stand = StandardScaler().fit(X_train)\n",
    "\n",
    "X_train_stand = stand.transform(X_train)\n",
    "X_test_stand = stand.transform(X_test)"
   ]
  },
  {
   "cell_type": "markdown",
   "id": "b36b02f4",
   "metadata": {},
   "source": [
    "### Step 3.d: Compare sets\n",
    "- For the Original, Normalized, and Standardized datasets\n",
    "    - Create a `SVM` model and fit it\n",
    "    - Predict values to calculate an accuracy score\n",
    "- HINT: For each dataset be inspired by this\n",
    "```Python\n",
    "svc = SVC()\n",
    "svc.fit(X_train, y_train)\n",
    "y_pred = svc.predict(X_test)\n",
    "accuracy_score(y_test, y_pred)\n",
    "```"
   ]
  },
  {
   "cell_type": "code",
   "execution_count": 15,
   "id": "993c3588",
   "metadata": {},
   "outputs": [],
   "source": [
    "score = []\n",
    "\n",
    "X_trains = [X_train, X_train_norm, X_train_stand]\n",
    "X_tests = [X_test, X_test_norm, X_test_stand]"
   ]
  },
  {
   "cell_type": "code",
   "execution_count": 16,
   "id": "2d65a2cd",
   "metadata": {},
   "outputs": [],
   "source": [
    "for X_train_set, X_test_set in zip(X_trains, X_tests):\n",
    "    svc = SVC()\n",
    "    svc.fit(X_train_set, y_train)\n",
    "    y_pred = svc.predict(X_test_set)\n",
    "    score.append(accuracy_score(y_test, y_pred))"
   ]
  },
  {
   "cell_type": "code",
   "execution_count": 17,
   "id": "50b9f623",
   "metadata": {},
   "outputs": [
    {
     "data": {
      "text/html": [
       "<div>\n",
       "<style scoped>\n",
       "    .dataframe tbody tr th:only-of-type {\n",
       "        vertical-align: middle;\n",
       "    }\n",
       "\n",
       "    .dataframe tbody tr th {\n",
       "        vertical-align: top;\n",
       "    }\n",
       "\n",
       "    .dataframe thead th {\n",
       "        text-align: right;\n",
       "    }\n",
       "</style>\n",
       "<table border=\"1\" class=\"dataframe\">\n",
       "  <thead>\n",
       "    <tr style=\"text-align: right;\">\n",
       "      <th></th>\n",
       "      <th>score</th>\n",
       "    </tr>\n",
       "  </thead>\n",
       "  <tbody>\n",
       "    <tr>\n",
       "      <th>Original</th>\n",
       "      <td>0.768</td>\n",
       "    </tr>\n",
       "    <tr>\n",
       "      <th>Normalized</th>\n",
       "      <td>0.928</td>\n",
       "    </tr>\n",
       "    <tr>\n",
       "      <th>Standardized</th>\n",
       "      <td>0.954</td>\n",
       "    </tr>\n",
       "  </tbody>\n",
       "</table>\n",
       "</div>"
      ],
      "text/plain": [
       "              score\n",
       "Original      0.768\n",
       "Normalized    0.928\n",
       "Standardized  0.954"
      ]
     },
     "execution_count": 17,
     "metadata": {},
     "output_type": "execute_result"
    }
   ],
   "source": [
    "pd.DataFrame({'score': score}, index=['Original', 'Normalized', 'Standardized'])"
   ]
  },
  {
   "cell_type": "markdown",
   "id": "9308daea",
   "metadata": {},
   "source": [
    "### Step 3.e: Finding most important feature\n",
    "- We now know that the features can predict if a player is left-footed\n",
    "- Now we need to find the most important features\n",
    "- [`permutation_importance`](https://scikit-learn.org/stable/modules/generated/sklearn.inspection.permutation_importance.html) Permutation importance for feature evaluation.\n",
    "- We will use the standardized data and fit a new `SVC` model\n",
    "- Then use the `permutation_importance` to calculate it.\n",
    "```Python\n",
    "perm_importance = permutation_importance(svc, X_test_stand, y_test)\n",
    "```\n",
    "- The results will be found in `perm_importance.importances_mean`"
   ]
  },
  {
   "cell_type": "code",
   "execution_count": 18,
   "id": "31e0ba3b",
   "metadata": {},
   "outputs": [
    {
     "data": {
      "text/plain": [
       "array([ 0.0116,  0.0068,  0.    ,  0.0056,  0.0164,  0.0012,  0.02  ,\n",
       "        0.0028,  0.0536,  0.002 ,  0.034 ,  0.0036,  0.0404,  0.0104,\n",
       "        0.0064,  0.0064,  0.0096,  0.0024,  0.0032,  0.0108,  0.0008,\n",
       "        0.0112,  0.0492,  0.0024,  0.0144,  0.0108,  0.0184,  0.0152,\n",
       "        0.002 , -0.0072,  0.0108, -0.0096,  0.0036,  0.0028,  0.0172,\n",
       "        0.012 ,  0.0124])"
      ]
     },
     "execution_count": 18,
     "metadata": {},
     "output_type": "execute_result"
    }
   ],
   "source": [
    "svc = SVC()\n",
    "svc.fit(X_train_stand, y_train)\n",
    "\n",
    "perm_importance = permutation_importance(svc, X_test_stand, y_test)\n",
    "perm_importance.importances_mean"
   ]
  },
  {
   "cell_type": "markdown",
   "id": "2f2f8ce9",
   "metadata": {},
   "source": [
    "### Step 3.f: Visualize the results\n",
    "- To visualize the result we want the most important features sorted\n",
    "- This can be `perm_importance.importances_mean.argsort()`\n",
    "    - HINT: assign it to `sorted_idx`\n",
    "- Then to visualize it we will create a DataFrame\n",
    "```Python\n",
    "pd.DataFrame(perm_importance.importances_mean[sorted_idx], X_test.columns[sorted_idx], columns=['Value'])\n",
    "```\n",
    "- Then make a `barh` plot (use `figsize`)"
   ]
  },
  {
   "cell_type": "code",
   "execution_count": 19,
   "id": "ca04eda3",
   "metadata": {},
   "outputs": [
    {
     "data": {
      "text/plain": [
       "<AxesSubplot:>"
      ]
     },
     "execution_count": 19,
     "metadata": {},
     "output_type": "execute_result"
    },
    {
     "data": {
      "image/png": "[encoded data removed]",
      "text/plain": [
       "<Figure size 1080x1080 with 1 Axes>"
      ]
     },
     "metadata": {
      "needs_background": "light"
     },
     "output_type": "display_data"
    }
   ],
   "source": [
    "sorted_idx = perm_importance.importances_mean.argsort()\n",
    "df = pd.DataFrame(perm_importance.importances_mean[sorted_idx], X_test.columns[sorted_idx], columns=['Value'])\n",
    "\n",
    "df.plot.barh(figsize=[15, 15])\n"
   ]
  },
  {
   "cell_type": "markdown",
   "id": "98a71ee2",
   "metadata": {},
   "source": [
    "## Step 4: Report\n",
    "- Present findings\n",
    "- Visualize results\n",
    "- Credibility counts"
   ]
  },
  {
   "cell_type": "markdown",
   "id": "4f53c2de",
   "metadata": {},
   "source": [
    "### Step 4.a: Present findings\n",
    "- There are many ways to present the findings.\n",
    "- Be creative\n",
    "- Ideas\n",
    "    - Explore how the features are related to the value"
   ]
  },
  {
   "cell_type": "code",
   "execution_count": null,
   "id": "1a8c894a",
   "metadata": {},
   "outputs": [],
   "source": []
  },
  {
   "cell_type": "code",
   "execution_count": null,
   "id": "d46a9fdc",
   "metadata": {},
   "outputs": [],
   "source": []
  },
  {
   "cell_type": "markdown",
   "id": "65c865f1",
   "metadata": {},
   "source": [
    "## Step 5: Actions\n",
    "- Use insights\n",
    "- Measure impact\n",
    "- Main goal"
   ]
  },
  {
   "cell_type": "markdown",
   "id": "f52b3d89",
   "metadata": {},
   "source": [
    "### Step 5.a: Reflection\n",
    "- There might not be any actions?"
   ]
  },
  {
   "cell_type": "code",
   "execution_count": null,
   "id": "8db229c1",
   "metadata": {},
   "outputs": [],
   "source": []
  },
  {
   "cell_type": "code",
   "execution_count": null,
   "id": "2f67725e",
   "metadata": {},
   "outputs": [],
   "source": []
  }
 ],
 "metadata": {
  "kernelspec": {
   "display_name": "Python 3.9.2 64-bit",
   "language": "python",
   "name": "python3"
  },
  "language_info": {
   "codemirror_mode": {
    "name": "ipython",
    "version": 3
   },
   "file_extension": ".py",
   "mimetype": "text/x-python",
   "name": "python",
   "nbconvert_exporter": "python",
   "pygments_lexer": "ipython3",
   "version": "3.9.2"
  },
  "vscode": {
   "interpreter": {
    "hash": "81794d4967e6c3204c66dcd87b604927b115b27c00565d3d43f05ba2f3a2cb0d"
   }
  }
 },
 "nbformat": 4,
 "nbformat_minor": 5
}
