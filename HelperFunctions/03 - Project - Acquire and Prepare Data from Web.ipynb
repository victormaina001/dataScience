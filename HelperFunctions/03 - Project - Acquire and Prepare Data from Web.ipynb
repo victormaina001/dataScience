{
 "cells": [
  {
   "cell_type": "markdown",
   "id": "39c877c9",
   "metadata": {},
   "source": [
    "# Project - Acquire and Prepare Data from Web"
   ]
  },
  {
   "cell_type": "markdown",
   "id": "26869a35",
   "metadata": {},
   "source": [
    "![Data Science Workflow](img/ds-workflow.png)"
   ]
  },
  {
   "cell_type": "markdown",
   "id": "b78e72ef",
   "metadata": {},
   "source": [
    "## Goal of Project\n",
    "- This project will focus on Step 1 and 2 (**Acquire** and **Prepare**)\n",
    "- We will read raw data that needs Data Wrangling to prepare\n",
    "- The process we follow demonstrates how a Data Scientist works"
   ]
  },
  {
   "cell_type": "markdown",
   "id": "77f362c4",
   "metadata": {},
   "source": [
    "## Step 1: Acquire\n",
    "- Explore problem\n",
    "- Identify data\n",
    "- Import data"
   ]
  },
  {
   "cell_type": "markdown",
   "id": "6f8cbbcb",
   "metadata": {},
   "source": [
    "### Step 1.a: Import libraries\n",
    "- Execute the cell below (SHIFT + ENTER)"
   ]
  },
  {
   "cell_type": "code",
   "execution_count": 1,
   "id": "9b9c78d1",
   "metadata": {},
   "outputs": [],
   "source": [
    "import pandas as pd\n",
    "import matplotlib.pyplot as plt\n",
    "%matplotlib inline"
   ]
  },
  {
   "cell_type": "markdown",
   "id": "b5f9a799",
   "metadata": {},
   "source": [
    "### Step 1.b: Retrieve/Read the data\n",
    "- There are two options to get data\n",
    "#### Option 1: Directly from wikipedia\n",
    "- Assign variable ```url = \"https://en.wikipedia.org/wiki/Wikipedia:Fundraising_statistics\"```\n",
    "- Retrieve the data ```tables = pd.read_html(url)```\n",
    "- Assign the first DataFrame to a variable\n",
    "    - HINT: ```tables``` is a list DataFrame containing all the data\n",
    "\n",
    "#### Option 2: From csv file (if option 1 fails)\n",
    "- Use ```pd.read_csv()``` to read the file `files/fundraising.csv`\n",
    "- NOTE: Remember to assign the result to a variable (e.g., ```data```)\n",
    "- Apply ```.head()``` on the data to see all is as expected"
   ]
  },
  {
   "cell_type": "code",
   "execution_count": 2,
   "id": "459d74f3",
   "metadata": {},
   "outputs": [],
   "source": [
    "url = \"https://en.wikipedia.org/wiki/Wikipedia:Fundraising_statistics\"\n",
    "tables = pd.read_html(url)\n",
    "data = tables[0]"
   ]
  },
  {
   "cell_type": "code",
   "execution_count": 3,
   "id": "fa43c3c6",
   "metadata": {},
   "outputs": [
    {
     "data": {
      "text/html": [
       "<div>\n",
       "<style scoped>\n",
       "    .dataframe tbody tr th:only-of-type {\n",
       "        vertical-align: middle;\n",
       "    }\n",
       "\n",
       "    .dataframe tbody tr th {\n",
       "        vertical-align: top;\n",
       "    }\n",
       "\n",
       "    .dataframe thead th {\n",
       "        text-align: right;\n",
       "    }\n",
       "</style>\n",
       "<table border=\"1\" class=\"dataframe\">\n",
       "  <thead>\n",
       "    <tr style=\"text-align: right;\">\n",
       "      <th></th>\n",
       "      <th>Year</th>\n",
       "      <th>Source</th>\n",
       "      <th>Revenue</th>\n",
       "      <th>Expenses</th>\n",
       "      <th>Asset rise</th>\n",
       "      <th>Total assets</th>\n",
       "    </tr>\n",
       "  </thead>\n",
       "  <tbody>\n",
       "    <tr>\n",
       "      <th>0</th>\n",
       "      <td>2020/2021</td>\n",
       "      <td>PDF</td>\n",
       "      <td>$ 162,886,686</td>\n",
       "      <td>$ 111,839,819</td>\n",
       "      <td>$ 50,861,811</td>\n",
       "      <td>$ 231,177,536</td>\n",
       "    </tr>\n",
       "    <tr>\n",
       "      <th>1</th>\n",
       "      <td>2019/2020</td>\n",
       "      <td>PDF</td>\n",
       "      <td>$ 129,234,327</td>\n",
       "      <td>$ 112,489,397</td>\n",
       "      <td>$ 14,674,300</td>\n",
       "      <td>$ 180,315,725</td>\n",
       "    </tr>\n",
       "    <tr>\n",
       "      <th>2</th>\n",
       "      <td>2018/2019</td>\n",
       "      <td>PDF</td>\n",
       "      <td>$ 120,067,266</td>\n",
       "      <td>$ 91,414,010</td>\n",
       "      <td>$ 30,691,855</td>\n",
       "      <td>$ 165,641,425</td>\n",
       "    </tr>\n",
       "    <tr>\n",
       "      <th>3</th>\n",
       "      <td>2017/2018</td>\n",
       "      <td>PDF</td>\n",
       "      <td>$ 104,505,783</td>\n",
       "      <td>$ 81,442,265</td>\n",
       "      <td>$ 21,619,373</td>\n",
       "      <td>$ 134,949,570</td>\n",
       "    </tr>\n",
       "    <tr>\n",
       "      <th>4</th>\n",
       "      <td>2016/2017</td>\n",
       "      <td>PDF</td>\n",
       "      <td>$ 91,242,418</td>\n",
       "      <td>$ 69,136,758</td>\n",
       "      <td>$ 21,547,402</td>\n",
       "      <td>$ 113,330,197</td>\n",
       "    </tr>\n",
       "  </tbody>\n",
       "</table>\n",
       "</div>"
      ],
      "text/plain": [
       "        Year Source        Revenue       Expenses    Asset rise   Total assets\n",
       "0  2020/2021    PDF  $ 162,886,686  $ 111,839,819  $ 50,861,811  $ 231,177,536\n",
       "1  2019/2020    PDF  $ 129,234,327  $ 112,489,397  $ 14,674,300  $ 180,315,725\n",
       "2  2018/2019    PDF  $ 120,067,266   $ 91,414,010  $ 30,691,855  $ 165,641,425\n",
       "3  2017/2018    PDF  $ 104,505,783   $ 81,442,265  $ 21,619,373  $ 134,949,570\n",
       "4  2016/2017    PDF   $ 91,242,418   $ 69,136,758  $ 21,547,402  $ 113,330,197"
      ]
     },
     "execution_count": 3,
     "metadata": {},
     "output_type": "execute_result"
    }
   ],
   "source": [
    "data.head()"
   ]
  },
  {
   "cell_type": "markdown",
   "id": "3bec949d",
   "metadata": {},
   "source": [
    "## Step 2: Prepare\n",
    "- Explore data\n",
    "- Visualize ideas\n",
    "- Cleaning data"
   ]
  },
  {
   "cell_type": "markdown",
   "id": "6a5d948d",
   "metadata": {},
   "source": [
    "### Step 2.a: Check the data types\n",
    "- This step tells you if some numeric column is not represented numeric.\n",
    "- Get the data types by ```.dtypes```"
   ]
  },
  {
   "cell_type": "code",
   "execution_count": 4,
   "id": "6ef2c04a",
   "metadata": {},
   "outputs": [
    {
     "data": {
      "text/plain": [
       "Year            object\n",
       "Source          object\n",
       "Revenue         object\n",
       "Expenses        object\n",
       "Asset rise      object\n",
       "Total assets    object\n",
       "dtype: object"
      ]
     },
     "execution_count": 4,
     "metadata": {},
     "output_type": "execute_result"
    }
   ],
   "source": [
    "data.dtypes"
   ]
  },
  {
   "cell_type": "markdown",
   "id": "2867789a",
   "metadata": {},
   "source": [
    "### Step 2.b: Check for null (missing) values\n",
    "- Data often is missing entries - there can be many reasons for this\n",
    "- We need to deal with that (will do later in course)\n",
    "- Use ```.isna().any()```"
   ]
  },
  {
   "cell_type": "code",
   "execution_count": 5,
   "id": "0ae88ff5",
   "metadata": {},
   "outputs": [
    {
     "data": {
      "text/plain": [
       "Year            False\n",
       "Source          False\n",
       "Revenue         False\n",
       "Expenses        False\n",
       "Asset rise      False\n",
       "Total assets    False\n",
       "dtype: bool"
      ]
     },
     "execution_count": 5,
     "metadata": {},
     "output_type": "execute_result"
    }
   ],
   "source": [
    "data.isna().any()"
   ]
  },
  {
   "cell_type": "markdown",
   "id": "137fdfde",
   "metadata": {},
   "source": [
    "### Step 2.c: Delete Source Column\n",
    "- The Column Source adds no value for further investigations\n",
    "- You can delete it by \n",
    "    - ```del data['Source']```"
   ]
  },
  {
   "cell_type": "code",
   "execution_count": 6,
   "id": "7119a1a0",
   "metadata": {},
   "outputs": [],
   "source": [
    "del data['Source']"
   ]
  },
  {
   "cell_type": "code",
   "execution_count": 7,
   "id": "5c2af45a",
   "metadata": {},
   "outputs": [
    {
     "data": {
      "text/html": [
       "<div>\n",
       "<style scoped>\n",
       "    .dataframe tbody tr th:only-of-type {\n",
       "        vertical-align: middle;\n",
       "    }\n",
       "\n",
       "    .dataframe tbody tr th {\n",
       "        vertical-align: top;\n",
       "    }\n",
       "\n",
       "    .dataframe thead th {\n",
       "        text-align: right;\n",
       "    }\n",
       "</style>\n",
       "<table border=\"1\" class=\"dataframe\">\n",
       "  <thead>\n",
       "    <tr style=\"text-align: right;\">\n",
       "      <th></th>\n",
       "      <th>Year</th>\n",
       "      <th>Revenue</th>\n",
       "      <th>Expenses</th>\n",
       "      <th>Asset rise</th>\n",
       "      <th>Total assets</th>\n",
       "    </tr>\n",
       "  </thead>\n",
       "  <tbody>\n",
       "    <tr>\n",
       "      <th>0</th>\n",
       "      <td>2020/2021</td>\n",
       "      <td>$ 162,886,686</td>\n",
       "      <td>$ 111,839,819</td>\n",
       "      <td>$ 50,861,811</td>\n",
       "      <td>$ 231,177,536</td>\n",
       "    </tr>\n",
       "    <tr>\n",
       "      <th>1</th>\n",
       "      <td>2019/2020</td>\n",
       "      <td>$ 129,234,327</td>\n",
       "      <td>$ 112,489,397</td>\n",
       "      <td>$ 14,674,300</td>\n",
       "      <td>$ 180,315,725</td>\n",
       "    </tr>\n",
       "    <tr>\n",
       "      <th>2</th>\n",
       "      <td>2018/2019</td>\n",
       "      <td>$ 120,067,266</td>\n",
       "      <td>$ 91,414,010</td>\n",
       "      <td>$ 30,691,855</td>\n",
       "      <td>$ 165,641,425</td>\n",
       "    </tr>\n",
       "    <tr>\n",
       "      <th>3</th>\n",
       "      <td>2017/2018</td>\n",
       "      <td>$ 104,505,783</td>\n",
       "      <td>$ 81,442,265</td>\n",
       "      <td>$ 21,619,373</td>\n",
       "      <td>$ 134,949,570</td>\n",
       "    </tr>\n",
       "    <tr>\n",
       "      <th>4</th>\n",
       "      <td>2016/2017</td>\n",
       "      <td>$ 91,242,418</td>\n",
       "      <td>$ 69,136,758</td>\n",
       "      <td>$ 21,547,402</td>\n",
       "      <td>$ 113,330,197</td>\n",
       "    </tr>\n",
       "  </tbody>\n",
       "</table>\n",
       "</div>"
      ],
      "text/plain": [
       "        Year        Revenue       Expenses    Asset rise   Total assets\n",
       "0  2020/2021  $ 162,886,686  $ 111,839,819  $ 50,861,811  $ 231,177,536\n",
       "1  2019/2020  $ 129,234,327  $ 112,489,397  $ 14,674,300  $ 180,315,725\n",
       "2  2018/2019  $ 120,067,266   $ 91,414,010  $ 30,691,855  $ 165,641,425\n",
       "3  2017/2018  $ 104,505,783   $ 81,442,265  $ 21,619,373  $ 134,949,570\n",
       "4  2016/2017   $ 91,242,418   $ 69,136,758  $ 21,547,402  $ 113,330,197"
      ]
     },
     "execution_count": 7,
     "metadata": {},
     "output_type": "execute_result"
    }
   ],
   "source": [
    "data.head()"
   ]
  },
  {
   "cell_type": "markdown",
   "id": "846a1523",
   "metadata": {},
   "source": [
    "### Step 2.d: Convert Year column to numeric\n",
    "- All the strings in years are formatted: 'YYYY/YYYY'\n",
    "- To get the last year as string: ```data['Year'].str[-4:]```\n",
    "- To convert that to numeric use: ```pd.to_numeric(...)```\n",
    "    - HINT: You can assign the column directly"
   ]
  },
  {
   "cell_type": "code",
   "execution_count": 11,
   "id": "35cbd9e8",
   "metadata": {},
   "outputs": [
    {
     "data": {
      "text/html": [
       "<div>\n",
       "<style scoped>\n",
       "    .dataframe tbody tr th:only-of-type {\n",
       "        vertical-align: middle;\n",
       "    }\n",
       "\n",
       "    .dataframe tbody tr th {\n",
       "        vertical-align: top;\n",
       "    }\n",
       "\n",
       "    .dataframe thead th {\n",
       "        text-align: right;\n",
       "    }\n",
       "</style>\n",
       "<table border=\"1\" class=\"dataframe\">\n",
       "  <thead>\n",
       "    <tr style=\"text-align: right;\">\n",
       "      <th></th>\n",
       "      <th>Year</th>\n",
       "      <th>Revenue</th>\n",
       "      <th>Expenses</th>\n",
       "      <th>Asset rise</th>\n",
       "      <th>Total assets</th>\n",
       "    </tr>\n",
       "  </thead>\n",
       "  <tbody>\n",
       "    <tr>\n",
       "      <th>0</th>\n",
       "      <td>2021</td>\n",
       "      <td>$ 162,886,686</td>\n",
       "      <td>$ 111,839,819</td>\n",
       "      <td>$ 50,861,811</td>\n",
       "      <td>$ 231,177,536</td>\n",
       "    </tr>\n",
       "    <tr>\n",
       "      <th>1</th>\n",
       "      <td>2020</td>\n",
       "      <td>$ 129,234,327</td>\n",
       "      <td>$ 112,489,397</td>\n",
       "      <td>$ 14,674,300</td>\n",
       "      <td>$ 180,315,725</td>\n",
       "    </tr>\n",
       "    <tr>\n",
       "      <th>2</th>\n",
       "      <td>2019</td>\n",
       "      <td>$ 120,067,266</td>\n",
       "      <td>$ 91,414,010</td>\n",
       "      <td>$ 30,691,855</td>\n",
       "      <td>$ 165,641,425</td>\n",
       "    </tr>\n",
       "    <tr>\n",
       "      <th>3</th>\n",
       "      <td>2018</td>\n",
       "      <td>$ 104,505,783</td>\n",
       "      <td>$ 81,442,265</td>\n",
       "      <td>$ 21,619,373</td>\n",
       "      <td>$ 134,949,570</td>\n",
       "    </tr>\n",
       "    <tr>\n",
       "      <th>4</th>\n",
       "      <td>2017</td>\n",
       "      <td>$ 91,242,418</td>\n",
       "      <td>$ 69,136,758</td>\n",
       "      <td>$ 21,547,402</td>\n",
       "      <td>$ 113,330,197</td>\n",
       "    </tr>\n",
       "  </tbody>\n",
       "</table>\n",
       "</div>"
      ],
      "text/plain": [
       "   Year        Revenue       Expenses    Asset rise   Total assets\n",
       "0  2021  $ 162,886,686  $ 111,839,819  $ 50,861,811  $ 231,177,536\n",
       "1  2020  $ 129,234,327  $ 112,489,397  $ 14,674,300  $ 180,315,725\n",
       "2  2019  $ 120,067,266   $ 91,414,010  $ 30,691,855  $ 165,641,425\n",
       "3  2018  $ 104,505,783   $ 81,442,265  $ 21,619,373  $ 134,949,570\n",
       "4  2017   $ 91,242,418   $ 69,136,758  $ 21,547,402  $ 113,330,197"
      ]
     },
     "execution_count": 11,
     "metadata": {},
     "output_type": "execute_result"
    }
   ],
   "source": [
    "data['Year'] = data['Year'].str[-4:]\n",
    "data.head()"
   ]
  },
  {
   "cell_type": "code",
   "execution_count": 12,
   "id": "066b2425",
   "metadata": {},
   "outputs": [
    {
     "data": {
      "text/plain": [
       "Year             int64\n",
       "Revenue         object\n",
       "Expenses        object\n",
       "Asset rise      object\n",
       "Total assets    object\n",
       "dtype: object"
      ]
     },
     "execution_count": 12,
     "metadata": {},
     "output_type": "execute_result"
    }
   ],
   "source": [
    "data['Year'] = pd.to_numeric(data['Year'])\n",
    "data.dtypes"
   ]
  },
  {
   "cell_type": "markdown",
   "id": "6cd81826",
   "metadata": {},
   "source": [
    "### Step 2.e: Set Year to index\n",
    "- To change a column to be the index use: ```data.set_index('Year', inplace=True)```\n",
    "- Also sort the index in correct order: ```data.sort_index(inplace=True)```"
   ]
  },
  {
   "cell_type": "code",
   "execution_count": null,
   "id": "d0774c47",
   "metadata": {},
   "outputs": [],
   "source": [
    "data.set_index('Year', inplace=True)"
   ]
  },
  {
   "cell_type": "code",
   "execution_count": 17,
   "id": "5340d1a8",
   "metadata": {},
   "outputs": [
    {
     "data": {
      "text/html": [
       "<div>\n",
       "<style scoped>\n",
       "    .dataframe tbody tr th:only-of-type {\n",
       "        vertical-align: middle;\n",
       "    }\n",
       "\n",
       "    .dataframe tbody tr th {\n",
       "        vertical-align: top;\n",
       "    }\n",
       "\n",
       "    .dataframe thead th {\n",
       "        text-align: right;\n",
       "    }\n",
       "</style>\n",
       "<table border=\"1\" class=\"dataframe\">\n",
       "  <thead>\n",
       "    <tr style=\"text-align: right;\">\n",
       "      <th></th>\n",
       "      <th>Revenue</th>\n",
       "      <th>Expenses</th>\n",
       "      <th>Asset rise</th>\n",
       "      <th>Total assets</th>\n",
       "    </tr>\n",
       "    <tr>\n",
       "      <th>Year</th>\n",
       "      <th></th>\n",
       "      <th></th>\n",
       "      <th></th>\n",
       "      <th></th>\n",
       "    </tr>\n",
       "  </thead>\n",
       "  <tbody>\n",
       "    <tr>\n",
       "      <th>2004</th>\n",
       "      <td>$ 80,129</td>\n",
       "      <td>$ 23,463</td>\n",
       "      <td>$ 56,666</td>\n",
       "      <td>$ 56,666</td>\n",
       "    </tr>\n",
       "    <tr>\n",
       "      <th>2005</th>\n",
       "      <td>$ 379,088</td>\n",
       "      <td>$ 177,670</td>\n",
       "      <td>$ 211,418</td>\n",
       "      <td>$ 268,084</td>\n",
       "    </tr>\n",
       "    <tr>\n",
       "      <th>2006</th>\n",
       "      <td>$ 1,508,039</td>\n",
       "      <td>$ 791,907</td>\n",
       "      <td>$ 736,132</td>\n",
       "      <td>$ 1,004,216</td>\n",
       "    </tr>\n",
       "    <tr>\n",
       "      <th>2007</th>\n",
       "      <td>$ 2,734,909</td>\n",
       "      <td>$ 2,077,843</td>\n",
       "      <td>$ 654,066</td>\n",
       "      <td>$ 1,658,282</td>\n",
       "    </tr>\n",
       "    <tr>\n",
       "      <th>2008</th>\n",
       "      <td>$ 5,032,981</td>\n",
       "      <td>$ 3,540,724</td>\n",
       "      <td>$ 3,519,886</td>\n",
       "      <td>$ 5,178,168</td>\n",
       "    </tr>\n",
       "  </tbody>\n",
       "</table>\n",
       "</div>"
      ],
      "text/plain": [
       "          Revenue     Expenses   Asset rise Total assets\n",
       "Year                                                    \n",
       "2004     $ 80,129     $ 23,463     $ 56,666     $ 56,666\n",
       "2005    $ 379,088    $ 177,670    $ 211,418    $ 268,084\n",
       "2006  $ 1,508,039    $ 791,907    $ 736,132  $ 1,004,216\n",
       "2007  $ 2,734,909  $ 2,077,843    $ 654,066  $ 1,658,282\n",
       "2008  $ 5,032,981  $ 3,540,724  $ 3,519,886  $ 5,178,168"
      ]
     },
     "execution_count": 17,
     "metadata": {},
     "output_type": "execute_result"
    }
   ],
   "source": [
    "data.head()"
   ]
  },
  {
   "cell_type": "code",
   "execution_count": 15,
   "id": "e4589312",
   "metadata": {},
   "outputs": [
    {
     "data": {
      "text/html": [
       "<div>\n",
       "<style scoped>\n",
       "    .dataframe tbody tr th:only-of-type {\n",
       "        vertical-align: middle;\n",
       "    }\n",
       "\n",
       "    .dataframe tbody tr th {\n",
       "        vertical-align: top;\n",
       "    }\n",
       "\n",
       "    .dataframe thead th {\n",
       "        text-align: right;\n",
       "    }\n",
       "</style>\n",
       "<table border=\"1\" class=\"dataframe\">\n",
       "  <thead>\n",
       "    <tr style=\"text-align: right;\">\n",
       "      <th></th>\n",
       "      <th>Revenue</th>\n",
       "      <th>Expenses</th>\n",
       "      <th>Asset rise</th>\n",
       "      <th>Total assets</th>\n",
       "    </tr>\n",
       "    <tr>\n",
       "      <th>Year</th>\n",
       "      <th></th>\n",
       "      <th></th>\n",
       "      <th></th>\n",
       "      <th></th>\n",
       "    </tr>\n",
       "  </thead>\n",
       "  <tbody>\n",
       "    <tr>\n",
       "      <th>2004</th>\n",
       "      <td>$ 80,129</td>\n",
       "      <td>$ 23,463</td>\n",
       "      <td>$ 56,666</td>\n",
       "      <td>$ 56,666</td>\n",
       "    </tr>\n",
       "    <tr>\n",
       "      <th>2005</th>\n",
       "      <td>$ 379,088</td>\n",
       "      <td>$ 177,670</td>\n",
       "      <td>$ 211,418</td>\n",
       "      <td>$ 268,084</td>\n",
       "    </tr>\n",
       "    <tr>\n",
       "      <th>2006</th>\n",
       "      <td>$ 1,508,039</td>\n",
       "      <td>$ 791,907</td>\n",
       "      <td>$ 736,132</td>\n",
       "      <td>$ 1,004,216</td>\n",
       "    </tr>\n",
       "    <tr>\n",
       "      <th>2007</th>\n",
       "      <td>$ 2,734,909</td>\n",
       "      <td>$ 2,077,843</td>\n",
       "      <td>$ 654,066</td>\n",
       "      <td>$ 1,658,282</td>\n",
       "    </tr>\n",
       "    <tr>\n",
       "      <th>2008</th>\n",
       "      <td>$ 5,032,981</td>\n",
       "      <td>$ 3,540,724</td>\n",
       "      <td>$ 3,519,886</td>\n",
       "      <td>$ 5,178,168</td>\n",
       "    </tr>\n",
       "  </tbody>\n",
       "</table>\n",
       "</div>"
      ],
      "text/plain": [
       "          Revenue     Expenses   Asset rise Total assets\n",
       "Year                                                    \n",
       "2004     $ 80,129     $ 23,463     $ 56,666     $ 56,666\n",
       "2005    $ 379,088    $ 177,670    $ 211,418    $ 268,084\n",
       "2006  $ 1,508,039    $ 791,907    $ 736,132  $ 1,004,216\n",
       "2007  $ 2,734,909  $ 2,077,843    $ 654,066  $ 1,658,282\n",
       "2008  $ 5,032,981  $ 3,540,724  $ 3,519,886  $ 5,178,168"
      ]
     },
     "execution_count": 15,
     "metadata": {},
     "output_type": "execute_result"
    }
   ],
   "source": [
    "data.sort_index(inplace=True)\n",
    "data.head()"
   ]
  },
  {
   "cell_type": "markdown",
   "id": "0087a9d0",
   "metadata": {},
   "source": [
    "### Step 2.f: Convert the remaining columns to numeric\n",
    "- Remember the steps from the lesson\n",
    "    - ```.str[2:]``` to remove the first two characters ('\\$ ')\n",
    "    - ```.str.replace(',', '')``` to remove commas\n",
    "    - ```pd.to_numeric(...)``` converts string (containing well-formed number) to the numeric value\n",
    "- Try to do it directly column by column"
   ]
  },
  {
   "cell_type": "code",
   "execution_count": null,
   "id": "ed0c61ec",
   "metadata": {},
   "outputs": [],
   "source": [
    "data['Revenue'] = pd.to_numeric(data['Revenue'].str[2:].str.replace(',', ''))"
   ]
  },
  {
   "cell_type": "code",
   "execution_count": null,
   "id": "743363f5",
   "metadata": {},
   "outputs": [],
   "source": [
    "data['Expenses'] = pd.to_numeric(data['Expenses'].str[2:].str.replace(',', ''))\n",
    "data['Asset rise'] = pd.to_numeric(data['Asset rise'].str[2:].str.replace(',', ''))\n",
    "data['Total assets'] = pd.to_numeric(data['Total assets'].str[2:].str.replace(',', ''))"
   ]
  },
  {
   "cell_type": "code",
   "execution_count": 22,
   "id": "6c26618f",
   "metadata": {},
   "outputs": [
    {
     "data": {
      "text/html": [
       "<div>\n",
       "<style scoped>\n",
       "    .dataframe tbody tr th:only-of-type {\n",
       "        vertical-align: middle;\n",
       "    }\n",
       "\n",
       "    .dataframe tbody tr th {\n",
       "        vertical-align: top;\n",
       "    }\n",
       "\n",
       "    .dataframe thead th {\n",
       "        text-align: right;\n",
       "    }\n",
       "</style>\n",
       "<table border=\"1\" class=\"dataframe\">\n",
       "  <thead>\n",
       "    <tr style=\"text-align: right;\">\n",
       "      <th></th>\n",
       "      <th>Revenue</th>\n",
       "      <th>Expenses</th>\n",
       "      <th>Asset rise</th>\n",
       "      <th>Total assets</th>\n",
       "    </tr>\n",
       "    <tr>\n",
       "      <th>Year</th>\n",
       "      <th></th>\n",
       "      <th></th>\n",
       "      <th></th>\n",
       "      <th></th>\n",
       "    </tr>\n",
       "  </thead>\n",
       "  <tbody>\n",
       "    <tr>\n",
       "      <th>2004</th>\n",
       "      <td>80129</td>\n",
       "      <td>23463</td>\n",
       "      <td>56666</td>\n",
       "      <td>56666</td>\n",
       "    </tr>\n",
       "    <tr>\n",
       "      <th>2005</th>\n",
       "      <td>379088</td>\n",
       "      <td>177670</td>\n",
       "      <td>211418</td>\n",
       "      <td>268084</td>\n",
       "    </tr>\n",
       "    <tr>\n",
       "      <th>2006</th>\n",
       "      <td>1508039</td>\n",
       "      <td>791907</td>\n",
       "      <td>736132</td>\n",
       "      <td>1004216</td>\n",
       "    </tr>\n",
       "    <tr>\n",
       "      <th>2007</th>\n",
       "      <td>2734909</td>\n",
       "      <td>2077843</td>\n",
       "      <td>654066</td>\n",
       "      <td>1658282</td>\n",
       "    </tr>\n",
       "    <tr>\n",
       "      <th>2008</th>\n",
       "      <td>5032981</td>\n",
       "      <td>3540724</td>\n",
       "      <td>3519886</td>\n",
       "      <td>5178168</td>\n",
       "    </tr>\n",
       "  </tbody>\n",
       "</table>\n",
       "</div>"
      ],
      "text/plain": [
       "      Revenue  Expenses  Asset rise  Total assets\n",
       "Year                                             \n",
       "2004    80129     23463       56666         56666\n",
       "2005   379088    177670      211418        268084\n",
       "2006  1508039    791907      736132       1004216\n",
       "2007  2734909   2077843      654066       1658282\n",
       "2008  5032981   3540724     3519886       5178168"
      ]
     },
     "execution_count": 22,
     "metadata": {},
     "output_type": "execute_result"
    }
   ],
   "source": [
    "data.head()"
   ]
  },
  {
   "cell_type": "code",
   "execution_count": 23,
   "id": "f43472f8",
   "metadata": {},
   "outputs": [
    {
     "data": {
      "text/plain": [
       "Revenue         int64\n",
       "Expenses        int64\n",
       "Asset rise      int64\n",
       "Total assets    int64\n",
       "dtype: object"
      ]
     },
     "execution_count": 23,
     "metadata": {},
     "output_type": "execute_result"
    }
   ],
   "source": [
    "data.dtypes"
   ]
  },
  {
   "cell_type": "markdown",
   "id": "bb468746",
   "metadata": {},
   "source": [
    "### Step 2.g: Visualize data to investigate quality\n",
    "- Make a simple plot of **Revenue**, **Expenses** and **Total assets**\n",
    "- This will help you spot any outliers"
   ]
  },
  {
   "cell_type": "code",
   "execution_count": 24,
   "id": "a4218ed8",
   "metadata": {},
   "outputs": [
    {
     "data": {
      "text/plain": [
       "<AxesSubplot:xlabel='Year'>"
      ]
     },
     "execution_count": 24,
     "metadata": {},
     "output_type": "execute_result"
    },
    {
     "data": {
      "image/png": "[encoded data removed]",
      "text/plain": [
       "<Figure size 432x288 with 1 Axes>"
      ]
     },
     "metadata": {
      "needs_background": "light"
     },
     "output_type": "display_data"
    }
   ],
   "source": [
    "data[['Revenue', 'Expenses', 'Total assets']].plot()"
   ]
  },
  {
   "cell_type": "markdown",
   "id": "c347dbfd",
   "metadata": {},
   "source": [
    "### Step 2.h: Visualize data to investigate quality\n",
    "- Make a simple plot of **Asset rise**\n",
    "- This will help you spot any outliers"
   ]
  },
  {
   "cell_type": "code",
   "execution_count": 25,
   "id": "295ef31c",
   "metadata": {},
   "outputs": [
    {
     "data": {
      "text/plain": [
       "<AxesSubplot:xlabel='Year'>"
      ]
     },
     "execution_count": 25,
     "metadata": {},
     "output_type": "execute_result"
    },
    {
     "data": {
      "image/png": "[encoded data removed]",
      "text/plain": [
       "<Figure size 432x288 with 1 Axes>"
      ]
     },
     "metadata": {
      "needs_background": "light"
     },
     "output_type": "display_data"
    }
   ],
   "source": [
    "data['Asset rise'].plot()"
   ]
  },
  {
   "cell_type": "code",
   "execution_count": 29,
   "id": "6611ae82",
   "metadata": {},
   "outputs": [
    {
     "data": {
      "image/png": "[encoded data removed]",
      "text/plain": [
       "<Figure size 432x288 with 1 Axes>"
      ]
     },
     "metadata": {
      "needs_background": "light"
     },
     "output_type": "display_data"
    }
   ],
   "source": [
    "plt.boxplot(data['Asset rise'])\n",
    "plt.show()"
   ]
  },
  {
   "cell_type": "code",
   "execution_count": 30,
   "id": "fb4049c6",
   "metadata": {},
   "outputs": [
    {
     "data": {
      "image/png": "[encoded data removed]",
      "text/plain": [
       "<Figure size 432x288 with 1 Axes>"
      ]
     },
     "metadata": {
      "needs_background": "light"
     },
     "output_type": "display_data"
    }
   ],
   "source": [
    "plt.boxplot(data)\n",
    "plt.show()"
   ]
  }
 ],
 "metadata": {
  "kernelspec": {
   "display_name": "Python 3 (ipykernel)",
   "language": "python",
   "name": "python3"
  },
  "language_info": {
   "codemirror_mode": {
    "name": "ipython",
    "version": 3
   },
   "file_extension": ".py",
   "mimetype": "text/x-python",
   "name": "python",
   "nbconvert_exporter": "python",
   "pygments_lexer": "ipython3",
   "version": "3.10.2"
  }
 },
 "nbformat": 4,
 "nbformat_minor": 5
}
